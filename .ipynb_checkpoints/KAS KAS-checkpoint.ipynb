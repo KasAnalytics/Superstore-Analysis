{
 "cells": [
  {
   "cell_type": "markdown",
   "id": "a572289c",
   "metadata": {},
   "source": [
    "** STRINGS CONCATENATION**"
   ]
  },
  {
   "cell_type": "code",
   "execution_count": 1,
   "id": "832d1031",
   "metadata": {},
   "outputs": [],
   "source": [
    "first_name = \"Peter\"\n",
    "last_name = \"parker\""
   ]
  },
  {
   "cell_type": "code",
   "execution_count": 2,
   "id": "10407289",
   "metadata": {},
   "outputs": [
    {
     "data": {
      "text/plain": [
       "'Peter'"
      ]
     },
     "execution_count": 2,
     "metadata": {},
     "output_type": "execute_result"
    }
   ],
   "source": [
    "first_name"
   ]
  },
  {
   "cell_type": "code",
   "execution_count": 3,
   "id": "29e844df",
   "metadata": {},
   "outputs": [
    {
     "data": {
      "text/plain": [
       "'parker'"
      ]
     },
     "execution_count": 3,
     "metadata": {},
     "output_type": "execute_result"
    }
   ],
   "source": [
    "last_name"
   ]
  },
  {
   "cell_type": "code",
   "execution_count": 4,
   "id": "3ab58d64",
   "metadata": {},
   "outputs": [
    {
     "name": "stdout",
     "output_type": "stream",
     "text": [
      "Peter parker\n"
     ]
    }
   ],
   "source": [
    "# method\n",
    "print(first_name + \" \" + last_name)"
   ]
  },
  {
   "cell_type": "code",
   "execution_count": 5,
   "id": "4031f6c8",
   "metadata": {},
   "outputs": [
    {
     "name": "stdout",
     "output_type": "stream",
     "text": [
      "Peter 4\n",
      "Peter 4\n"
     ]
    }
   ],
   "source": [
    "print(first_name,4)\n",
    "print(first_name,4)"
   ]
  },
  {
   "cell_type": "code",
   "execution_count": 6,
   "id": "a04558c1",
   "metadata": {},
   "outputs": [
    {
     "name": "stdout",
     "output_type": "stream",
     "text": [
      "My name is Peter parker\n"
     ]
    }
   ],
   "source": [
    "print(\"My name is\",first_name, last_name)"
   ]
  },
  {
   "cell_type": "markdown",
   "id": "e0e57f66",
   "metadata": {},
   "source": [
    "OPERATORS"
   ]
  },
  {
   "cell_type": "code",
   "execution_count": 7,
   "id": "ec18605b",
   "metadata": {},
   "outputs": [
    {
     "name": "stdout",
     "output_type": "stream",
     "text": [
      "15\n",
      "5\n",
      "2.0\n",
      "50\n",
      "9765625\n",
      "2\n",
      "0\n"
     ]
    }
   ],
   "source": [
    "#Arithmetic Operators, +, -, /, *, **, //, %\n",
    "a = 5\n",
    "b = 10\n",
    "\n",
    "# addition\n",
    "print(a + b)\n",
    "\n",
    "# substraction\n",
    "print(b - a)\n",
    "\n",
    "#Division\n",
    "print(b / a)\n",
    "\n",
    "# Multiplication\n",
    "print(a * b)\n",
    "\n",
    "# Exponents\n",
    "print(a**b)\n",
    "\n",
    "# floor division\n",
    "print(b // a)\n",
    "\n",
    "\n",
    "#Modulus\n",
    "print(b % a)\n",
    "\n",
    "\n",
    "\n",
    "\n",
    "\n",
    "\n",
    "\n",
    "\n"
   ]
  },
  {
   "cell_type": "code",
   "execution_count": 8,
   "id": "fe32ac27",
   "metadata": {},
   "outputs": [],
   "source": [
    "# BODMAS\n",
    "\n",
    "# PEMDAS = PARENTHESIS, EXPONENTS, MULTIPLICATION,\n",
    "# DIVISION, ADDITION AND SUBSTRACTION"
   ]
  },
  {
   "cell_type": "code",
   "execution_count": 9,
   "id": "2025c98d",
   "metadata": {},
   "outputs": [
    {
     "data": {
      "text/plain": [
       "8.408163265306122"
      ]
     },
     "execution_count": 9,
     "metadata": {},
     "output_type": "execute_result"
    }
   ],
   "source": [
    "3+5*(10-6)/7**2+5"
   ]
  },
  {
   "cell_type": "code",
   "execution_count": 10,
   "id": "348a3d77",
   "metadata": {},
   "outputs": [
    {
     "data": {
      "text/plain": [
       "3515665.0"
      ]
     },
     "execution_count": 10,
     "metadata": {},
     "output_type": "execute_result"
    }
   ],
   "source": [
    "# EXERCISE\n",
    "\n",
    "45+(15-10*9)**4/9-5"
   ]
  },
  {
   "cell_type": "code",
   "execution_count": 16,
   "id": "312197aa",
   "metadata": {},
   "outputs": [
    {
     "data": {
      "text/plain": [
       "25"
      ]
     },
     "execution_count": 16,
     "metadata": {},
     "output_type": "execute_result"
    }
   ],
   "source": [
    "# Assignment Operators\n",
    "# =, +=, -=, *=, **=\n",
    "\n",
    "y = 10\n",
    "z = 15\n",
    "y+z"
   ]
  },
  {
   "cell_type": "code",
   "execution_count": 12,
   "id": "9b305e49",
   "metadata": {},
   "outputs": [
    {
     "data": {
      "text/plain": [
       "15"
      ]
     },
     "execution_count": 12,
     "metadata": {},
     "output_type": "execute_result"
    }
   ],
   "source": [
    "y += 5\n",
    "# y = y + 5\n",
    "y"
   ]
  },
  {
   "cell_type": "code",
   "execution_count": 13,
   "id": "a4bab62e",
   "metadata": {},
   "outputs": [
    {
     "data": {
      "text/plain": [
       "10"
      ]
     },
     "execution_count": 13,
     "metadata": {},
     "output_type": "execute_result"
    }
   ],
   "source": [
    "y -= 5\n",
    "# y = y - 5\n",
    "y"
   ]
  },
  {
   "cell_type": "code",
   "execution_count": 15,
   "id": "014ae351",
   "metadata": {},
   "outputs": [
    {
     "data": {
      "text/plain": [
       "50"
      ]
     },
     "execution_count": 15,
     "metadata": {},
     "output_type": "execute_result"
    }
   ],
   "source": [
    "y *= 5\n",
    "y"
   ]
  },
  {
   "cell_type": "code",
   "execution_count": 17,
   "id": "1cfe2c7a",
   "metadata": {},
   "outputs": [
    {
     "data": {
      "text/plain": [
       "100000"
      ]
     },
     "execution_count": 17,
     "metadata": {},
     "output_type": "execute_result"
    }
   ],
   "source": [
    "y **= 5\n",
    "y"
   ]
  },
  {
   "cell_type": "markdown",
   "id": "41c27ab2",
   "metadata": {},
   "source": [
    "COMPARISM OPERATORS"
   ]
  },
  {
   "cell_type": "code",
   "execution_count": 1,
   "id": "27292e71",
   "metadata": {},
   "outputs": [
    {
     "name": "stdout",
     "output_type": "stream",
     "text": [
      "True\n"
     ]
    }
   ],
   "source": [
    "# == COMPARE VALUES EQUAL TO\n",
    "# ==\n",
    "a = 5\n",
    "b = 5\n",
    "print(a==b)"
   ]
  },
  {
   "cell_type": "code",
   "execution_count": 2,
   "id": "043ecffb",
   "metadata": {},
   "outputs": [
    {
     "name": "stdout",
     "output_type": "stream",
     "text": [
      "False\n"
     ]
    }
   ],
   "source": [
    "# != NOT EQUALS TO\n",
    "# !=\n",
    "x = 10\n",
    "y = 10\n",
    "print(x!=y)"
   ]
  },
  {
   "cell_type": "code",
   "execution_count": 1,
   "id": "5f090c10",
   "metadata": {},
   "outputs": [
    {
     "name": "stdout",
     "output_type": "stream",
     "text": [
      "True\n"
     ]
    }
   ],
   "source": [
    "# < LESS THAN\n",
    "p = 12\n",
    "q = 34\n",
    "\n",
    "print(p<q)"
   ]
  },
  {
   "cell_type": "code",
   "execution_count": 4,
   "id": "9c2e0979",
   "metadata": {},
   "outputs": [
    {
     "name": "stdout",
     "output_type": "stream",
     "text": [
      "True\n"
     ]
    }
   ],
   "source": [
    "# > greater than\n",
    "s = 10\n",
    "t =23\n",
    "print(t>s)"
   ]
  },
  {
   "cell_type": "code",
   "execution_count": 5,
   "id": "b69e7361",
   "metadata": {},
   "outputs": [
    {
     "name": "stdout",
     "output_type": "stream",
     "text": [
      "True\n"
     ]
    }
   ],
   "source": [
    "# >= Greater than Or equals to\n",
    "print(30>=30)"
   ]
  },
  {
   "cell_type": "code",
   "execution_count": 1,
   "id": "d5e1f6d7",
   "metadata": {},
   "outputs": [
    {
     "name": "stdout",
     "output_type": "stream",
     "text": [
      "True\n"
     ]
    }
   ],
   "source": [
    "# <= Less_than Or equals to\n",
    "print(200<=1000)"
   ]
  },
  {
   "cell_type": "markdown",
   "id": "929964c3",
   "metadata": {},
   "source": [
    "LOGICAL OPERATORS"
   ]
  },
  {
   "cell_type": "code",
   "execution_count": 9,
   "id": "65825045",
   "metadata": {},
   "outputs": [
    {
     "name": "stdout",
     "output_type": "stream",
     "text": [
      "False\n"
     ]
    }
   ],
   "source": [
    "print(12 > 6 and 10 < 7)\n",
    "\n",
    "# T AND F"
   ]
  },
  {
   "cell_type": "code",
   "execution_count": 15,
   "id": "115e3b16",
   "metadata": {},
   "outputs": [
    {
     "name": "stdout",
     "output_type": "stream",
     "text": [
      "False\n"
     ]
    }
   ],
   "source": [
    "# AND OPERATORS\n",
    "\n",
    "\n",
    "print(109<=90 and 10>10 and 5>6 and 4 == 4) \n",
    "\n",
    "# F AND F AND T AND T\n",
    "# F AND T"
   ]
  },
  {
   "cell_type": "code",
   "execution_count": 12,
   "id": "960c97f1",
   "metadata": {},
   "outputs": [
    {
     "name": "stdout",
     "output_type": "stream",
     "text": [
      "True\n"
     ]
    }
   ],
   "source": [
    "# THE OR OPERATOR\n",
    "print(10 < 8 or 9 > 10 or 1 > 0)\n",
    "\n",
    "# F OR F OR T"
   ]
  },
  {
   "cell_type": "code",
   "execution_count": 16,
   "id": "d89b1721",
   "metadata": {},
   "outputs": [
    {
     "name": "stdout",
     "output_type": "stream",
     "text": [
      "False\n"
     ]
    }
   ],
   "source": [
    "# THE NOT OPERATOR\n",
    "print(not 5 > 4)"
   ]
  },
  {
   "cell_type": "code",
   "execution_count": 17,
   "id": "99abe46d",
   "metadata": {},
   "outputs": [
    {
     "name": "stdout",
     "output_type": "stream",
     "text": [
      "True\n"
     ]
    }
   ],
   "source": [
    "print(10>6 and 7<9 or 5>6 or not 9>10 and 6>7)\n",
    "# T AND T OR F OR T AND F\n",
    "# T OR F OR F\n",
    "# T OR F"
   ]
  },
  {
   "cell_type": "markdown",
   "id": "3686178a",
   "metadata": {},
   "source": [
    "STRINGS FORMATTING"
   ]
  },
  {
   "cell_type": "code",
   "execution_count": 20,
   "id": "5c162c2d",
   "metadata": {},
   "outputs": [
    {
     "name": "stdout",
     "output_type": "stream",
     "text": [
      "My name is Lammie and i am studying Data Analysis\n"
     ]
    }
   ],
   "source": [
    "name = \"Lammie\"\n",
    "course = \"Data Analysis\"\n",
    "\n",
    "print(\"My name is\", name, \"and i am studying\", course)"
   ]
  },
  {
   "cell_type": "code",
   "execution_count": 21,
   "id": "78a2874e",
   "metadata": {},
   "outputs": [
    {
     "name": "stdout",
     "output_type": "stream",
     "text": [
      "My name is Lammie and i am studying Data Analysis\n"
     ]
    }
   ],
   "source": [
    "print(f\"My name is {name} and i am studying {course}\")"
   ]
  },
  {
   "cell_type": "code",
   "execution_count": 23,
   "id": "74899891",
   "metadata": {},
   "outputs": [
    {
     "name": "stdout",
     "output_type": "stream",
     "text": [
      "What is your name ? KAS\n",
      "My name is KAS\n"
     ]
    }
   ],
   "source": [
    " # INPUT FUNCTION\n",
    "name = input(\"What is your name ? \")\n",
    "    \n",
    "print(\"My name is\", name)\n",
    "    \n",
    "    "
   ]
  },
  {
   "cell_type": "code",
   "execution_count": 26,
   "id": "a6cc89b1",
   "metadata": {},
   "outputs": [
    {
     "name": "stdout",
     "output_type": "stream",
     "text": [
      "What is your phone number ? 08124851526\n",
      "My phone number is 08124851526\n"
     ]
    }
   ],
   "source": [
    "name = input(\"What is your phone number ? \")\n",
    "\n",
    "print(\"My phone number is\", name)"
   ]
  },
  {
   "cell_type": "markdown",
   "id": "24036ba7",
   "metadata": {},
   "source": [
    "CONDITIONAL STATEMENTS"
   ]
  },
  {
   "cell_type": "code",
   "execution_count": 2,
   "id": "6ff47a94",
   "metadata": {},
   "outputs": [
    {
     "name": "stdout",
     "output_type": "stream",
     "text": [
      "X is not greater than Y\n"
     ]
    }
   ],
   "source": [
    "x = 10\n",
    "y = 25\n",
    "z = 40\n",
    "\n",
    "if x > y:\n",
    "    print(\"X is greater than Y\")\n",
    "else:\n",
    "        print(\"X is not greater than Y\")\n",
    "# print(x > y)        \n",
    "\n"
   ]
  },
  {
   "cell_type": "code",
   "execution_count": 3,
   "id": "a1c51e20",
   "metadata": {},
   "outputs": [
    {
     "name": "stdout",
     "output_type": "stream",
     "text": [
      "Z is also grater than Y\n"
     ]
    }
   ],
   "source": [
    "if x > y:\n",
    "    print(\"X is greater Than Y\")\n",
    "        \n",
    "elif z > y:\n",
    "     print(\"Z is also grater than Y\")\n",
    "            \n",
    "elif x == z:\n",
    "    print(\"X is equal to Z\")\n",
    "                \n",
    "else:\n",
    "     print(\"X is not greater than Y\")"
   ]
  },
  {
   "cell_type": "code",
   "execution_count": 4,
   "id": "100c8d09",
   "metadata": {},
   "outputs": [],
   "source": [
    "num1 = 200\n",
    "num2 = 60\n",
    "num3 = 30"
   ]
  },
  {
   "cell_type": "code",
   "execution_count": 5,
   "id": "a4969e5b",
   "metadata": {},
   "outputs": [
    {
     "data": {
      "text/plain": [
       "0"
      ]
     },
     "execution_count": 5,
     "metadata": {},
     "output_type": "execute_result"
    }
   ],
   "source": [
    "num3 % 3"
   ]
  },
  {
   "cell_type": "code",
   "execution_count": 6,
   "id": "0749a2e5",
   "metadata": {},
   "outputs": [
    {
     "data": {
      "text/plain": [
       "2"
      ]
     },
     "execution_count": 6,
     "metadata": {},
     "output_type": "execute_result"
    }
   ],
   "source": [
    "num3 % 4"
   ]
  },
  {
   "cell_type": "code",
   "execution_count": 10,
   "id": "cf6a9654",
   "metadata": {},
   "outputs": [
    {
     "name": "stdout",
     "output_type": "stream",
     "text": [
      "200 is an even number\n"
     ]
    }
   ],
   "source": [
    "if num1 % 2 == 0:\n",
    "    print(f\"{num1} is an even number\")\n",
    "else:\n",
    "        print(f\"{num1} is an odd number\")"
   ]
  },
  {
   "cell_type": "markdown",
   "id": "7623a63e",
   "metadata": {},
   "source": [
    "SLICING AND STRIVING"
   ]
  },
  {
   "cell_type": "code",
   "execution_count": 12,
   "id": "92f95869",
   "metadata": {},
   "outputs": [
    {
     "data": {
      "text/plain": [
       "'P'"
      ]
     },
     "execution_count": 12,
     "metadata": {},
     "output_type": "execute_result"
    }
   ],
   "source": [
    "a = \"Python\"\n",
    "\n",
    "a[0]"
   ]
  },
  {
   "cell_type": "code",
   "execution_count": 13,
   "id": "b6ef5e80",
   "metadata": {},
   "outputs": [
    {
     "data": {
      "text/plain": [
       "'y'"
      ]
     },
     "execution_count": 13,
     "metadata": {},
     "output_type": "execute_result"
    }
   ],
   "source": [
    "a[1]"
   ]
  },
  {
   "cell_type": "code",
   "execution_count": 15,
   "id": "cc826837",
   "metadata": {},
   "outputs": [
    {
     "data": {
      "text/plain": [
       "'P'"
      ]
     },
     "execution_count": 15,
     "metadata": {},
     "output_type": "execute_result"
    }
   ],
   "source": [
    "a[0:1]"
   ]
  },
  {
   "cell_type": "markdown",
   "id": "f5ac62d4",
   "metadata": {},
   "source": [
    "POSITIVE INDEXING"
   ]
  },
  {
   "cell_type": "code",
   "execution_count": 16,
   "id": "a139e009",
   "metadata": {},
   "outputs": [
    {
     "data": {
      "text/plain": [
       "'Py'"
      ]
     },
     "execution_count": 16,
     "metadata": {},
     "output_type": "execute_result"
    }
   ],
   "source": [
    "a[0:2]"
   ]
  },
  {
   "cell_type": "code",
   "execution_count": 17,
   "id": "d9c5c9a5",
   "metadata": {},
   "outputs": [
    {
     "data": {
      "text/plain": [
       "'thon'"
      ]
     },
     "execution_count": 17,
     "metadata": {},
     "output_type": "execute_result"
    }
   ],
   "source": [
    "a[2:]"
   ]
  },
  {
   "cell_type": "code",
   "execution_count": 18,
   "id": "47a0ee85",
   "metadata": {},
   "outputs": [
    {
     "data": {
      "text/plain": [
       "'n'"
      ]
     },
     "execution_count": 18,
     "metadata": {},
     "output_type": "execute_result"
    }
   ],
   "source": [
    "# NEGATIVE INDEXING\n",
    "a[-1]"
   ]
  },
  {
   "cell_type": "code",
   "execution_count": 19,
   "id": "ecb78943",
   "metadata": {},
   "outputs": [
    {
     "data": {
      "text/plain": [
       "'tn'"
      ]
     },
     "execution_count": 19,
     "metadata": {},
     "output_type": "execute_result"
    }
   ],
   "source": [
    "a[2:6:3]\n",
    "#start end Steps"
   ]
  },
  {
   "cell_type": "code",
   "execution_count": 22,
   "id": "d78bb360",
   "metadata": {},
   "outputs": [
    {
     "name": "stdout",
     "output_type": "stream",
     "text": [
      "DAD is a palindrome word\n"
     ]
    }
   ],
   "source": [
    "palindrome = \"DaD\"\n",
    "\n",
    "if palindrome[0:].lower() == palindrome[::-1]. lower():\n",
    "    print(f\"{palindrome.upper()} is a palindrome word\")\n",
    "else:\n",
    "    print(f\"{palindrome.upper()} is not a palindrome word\")"
   ]
  },
  {
   "cell_type": "markdown",
   "id": "d603663d",
   "metadata": {},
   "source": [
    "DATA COLLECTION TYPES"
   ]
  },
  {
   "cell_type": "code",
   "execution_count": 33,
   "id": "13a9ae8e",
   "metadata": {},
   "outputs": [],
   "source": [
    "# LISTS\n",
    "values = [\"oranges\", 45, 79.8, True, False, 1j,45,45,45]\n",
    "values[0] = \"Apple\""
   ]
  },
  {
   "cell_type": "code",
   "execution_count": 34,
   "id": "90c56d20",
   "metadata": {},
   "outputs": [
    {
     "data": {
      "text/plain": [
       "['Apple', 45, 79.8, True, False, 1j, 45, 45, 45]"
      ]
     },
     "execution_count": 34,
     "metadata": {},
     "output_type": "execute_result"
    }
   ],
   "source": [
    "values"
   ]
  },
  {
   "cell_type": "code",
   "execution_count": 35,
   "id": "91558c36",
   "metadata": {},
   "outputs": [
    {
     "data": {
      "text/plain": [
       "['Apple', 45, 79.8, True, False, 35, 45, 45, 45]"
      ]
     },
     "execution_count": 35,
     "metadata": {},
     "output_type": "execute_result"
    }
   ],
   "source": [
    "values[-4] = 35\n",
    "values"
   ]
  },
  {
   "cell_type": "markdown",
   "id": "14eb5e63",
   "metadata": {},
   "source": [
    "METHODS: Append, Extend, Insert, Clear, Sort, copy,pop,"
   ]
  },
  {
   "cell_type": "code",
   "execution_count": 18,
   "id": "9805a30f",
   "metadata": {},
   "outputs": [
    {
     "data": {
      "text/plain": [
       "['Apple', 'Pineapple', 'Cherry']"
      ]
     },
     "execution_count": 18,
     "metadata": {},
     "output_type": "execute_result"
    }
   ],
   "source": [
    "fruits = [\"Apple\", \"Pineapple\", \"Cherry\"]\n",
    "fruits\n"
   ]
  },
  {
   "cell_type": "code",
   "execution_count": 19,
   "id": "3cc0b03e",
   "metadata": {},
   "outputs": [],
   "source": [
    "fruits.append(\"Banana\")"
   ]
  },
  {
   "cell_type": "code",
   "execution_count": 20,
   "id": "d12fd0b5",
   "metadata": {},
   "outputs": [
    {
     "data": {
      "text/plain": [
       "['Apple', 'Pineapple', 'Cherry', 'Banana']"
      ]
     },
     "execution_count": 20,
     "metadata": {},
     "output_type": "execute_result"
    }
   ],
   "source": [
    "fruits"
   ]
  },
  {
   "cell_type": "code",
   "execution_count": 21,
   "id": "a42d0be3",
   "metadata": {},
   "outputs": [
    {
     "data": {
      "text/plain": [
       "['Apple',\n",
       " 'Pineapple',\n",
       " 'Cherry',\n",
       " 'Banana',\n",
       " 'Watermelon',\n",
       " 'Mango',\n",
       " 'Peaches',\n",
       " 'Onions']"
      ]
     },
     "execution_count": 21,
     "metadata": {},
     "output_type": "execute_result"
    }
   ],
   "source": [
    "# EXTEND MEANS TO ADD\n",
    "fruits.extend([\"Watermelon\",\"Mango\",\"Peaches\",\"Onions\"])\n",
    "fruits\n"
   ]
  },
  {
   "cell_type": "code",
   "execution_count": null,
   "id": "57b8fb18",
   "metadata": {},
   "outputs": [],
   "source": [
    "# Len function is used to count the number of list we have."
   ]
  },
  {
   "cell_type": "code",
   "execution_count": 22,
   "id": "00569d95",
   "metadata": {},
   "outputs": [
    {
     "data": {
      "text/plain": [
       "8"
      ]
     },
     "execution_count": 22,
     "metadata": {},
     "output_type": "execute_result"
    }
   ],
   "source": [
    "len(fruits)"
   ]
  },
  {
   "cell_type": "code",
   "execution_count": 23,
   "id": "9188f97f",
   "metadata": {},
   "outputs": [
    {
     "data": {
      "text/plain": [
       "list"
      ]
     },
     "execution_count": 23,
     "metadata": {},
     "output_type": "execute_result"
    }
   ],
   "source": [
    "type(fruits)"
   ]
  },
  {
   "cell_type": "code",
   "execution_count": 30,
   "id": "4971b05a",
   "metadata": {},
   "outputs": [],
   "source": [
    "# insert\n",
    "fruits.insert(3, \"pawpaw\")"
   ]
  },
  {
   "cell_type": "code",
   "execution_count": 31,
   "id": "cc602168",
   "metadata": {},
   "outputs": [],
   "source": [
    "randomList = [\"Hello\",34,True,1j,False,32.9]"
   ]
  },
  {
   "cell_type": "code",
   "execution_count": 32,
   "id": "c4c34c1b",
   "metadata": {},
   "outputs": [],
   "source": [
    "randomList.clear()"
   ]
  },
  {
   "cell_type": "code",
   "execution_count": 33,
   "id": "fedf7ac1",
   "metadata": {},
   "outputs": [
    {
     "data": {
      "text/plain": [
       "[]"
      ]
     },
     "execution_count": 33,
     "metadata": {},
     "output_type": "execute_result"
    }
   ],
   "source": [
    "randomList"
   ]
  },
  {
   "cell_type": "code",
   "execution_count": 34,
   "id": "13451db8",
   "metadata": {},
   "outputs": [],
   "source": [
    "randomList.append(\"Chelsea\")"
   ]
  },
  {
   "cell_type": "code",
   "execution_count": 35,
   "id": "7a2340e0",
   "metadata": {},
   "outputs": [
    {
     "data": {
      "text/plain": [
       "['Chelsea']"
      ]
     },
     "execution_count": 35,
     "metadata": {},
     "output_type": "execute_result"
    }
   ],
   "source": [
    "randomList"
   ]
  },
  {
   "cell_type": "code",
   "execution_count": 36,
   "id": "5e8fc534",
   "metadata": {},
   "outputs": [
    {
     "data": {
      "text/plain": [
       "(1, 2, 3, 4, 5, 6, 7, 8, 9, 10)"
      ]
     },
     "execution_count": 36,
     "metadata": {},
     "output_type": "execute_result"
    }
   ],
   "source": [
    "Numbers = (1,2,3,4,5,6,7,8,9,10)\n",
    "Numbers"
   ]
  },
  {
   "cell_type": "code",
   "execution_count": 38,
   "id": "f25f4632",
   "metadata": {},
   "outputs": [
    {
     "data": {
      "text/plain": [
       "[23, 13, 56, 64, 21, 9, 18, 11, 75]"
      ]
     },
     "execution_count": 38,
     "metadata": {},
     "output_type": "execute_result"
    }
   ],
   "source": [
    "ListOfNumbers = [23,13,56,64,21,9,18,11,75]\n",
    "ListOfNumbers"
   ]
  },
  {
   "cell_type": "code",
   "execution_count": 39,
   "id": "db4d396c",
   "metadata": {},
   "outputs": [],
   "source": [
    "# sort in ascending order\n",
    "ListOfNumbers.sort()"
   ]
  },
  {
   "cell_type": "code",
   "execution_count": 41,
   "id": "dea82901",
   "metadata": {},
   "outputs": [
    {
     "data": {
      "text/plain": [
       "[9, 11, 13, 18, 21, 23, 56, 64, 75]"
      ]
     },
     "execution_count": 41,
     "metadata": {},
     "output_type": "execute_result"
    }
   ],
   "source": [
    "ListOfNumbers"
   ]
  },
  {
   "cell_type": "code",
   "execution_count": 42,
   "id": "db6e3f98",
   "metadata": {},
   "outputs": [],
   "source": [
    "# sort in descending order\n",
    "ListOfNumbers.sort(reverse=True)"
   ]
  },
  {
   "cell_type": "code",
   "execution_count": 43,
   "id": "cafa07fc",
   "metadata": {},
   "outputs": [
    {
     "data": {
      "text/plain": [
       "[75, 64, 56, 23, 21, 18, 13, 11, 9]"
      ]
     },
     "execution_count": 43,
     "metadata": {},
     "output_type": "execute_result"
    }
   ],
   "source": [
    "ListOfNumbers"
   ]
  },
  {
   "cell_type": "code",
   "execution_count": 44,
   "id": "b47e319b",
   "metadata": {},
   "outputs": [
    {
     "data": {
      "text/plain": [
       "['Apple',\n",
       " 'Pineapple',\n",
       " 'Cherry',\n",
       " 'pawpaw',\n",
       " 'pawpaw',\n",
       " 'pawpaw',\n",
       " 'pawpaw',\n",
       " 'pawpaw',\n",
       " 'pawpaw',\n",
       " 'Banana',\n",
       " 'Watermelon',\n",
       " 'Mango',\n",
       " 'Peaches',\n",
       " 'Onions']"
      ]
     },
     "execution_count": 44,
     "metadata": {},
     "output_type": "execute_result"
    }
   ],
   "source": [
    "# copy\n",
    "fruits"
   ]
  },
  {
   "cell_type": "code",
   "execution_count": 45,
   "id": "f198f675",
   "metadata": {},
   "outputs": [],
   "source": [
    "# copy\n",
    "fruits2 = fruits.copy()"
   ]
  },
  {
   "cell_type": "code",
   "execution_count": 46,
   "id": "5de99c14",
   "metadata": {},
   "outputs": [
    {
     "data": {
      "text/plain": [
       "['Apple',\n",
       " 'Pineapple',\n",
       " 'Cherry',\n",
       " 'pawpaw',\n",
       " 'pawpaw',\n",
       " 'pawpaw',\n",
       " 'pawpaw',\n",
       " 'pawpaw',\n",
       " 'pawpaw',\n",
       " 'Banana',\n",
       " 'Watermelon',\n",
       " 'Mango',\n",
       " 'Peaches',\n",
       " 'Onions']"
      ]
     },
     "execution_count": 46,
     "metadata": {},
     "output_type": "execute_result"
    }
   ],
   "source": [
    "fruits2"
   ]
  },
  {
   "cell_type": "code",
   "execution_count": 49,
   "id": "30b00112",
   "metadata": {},
   "outputs": [
    {
     "data": {
      "text/plain": [
       "'pawpaw'"
      ]
     },
     "execution_count": 49,
     "metadata": {},
     "output_type": "execute_result"
    }
   ],
   "source": [
    "fruits2.pop(3)"
   ]
  },
  {
   "cell_type": "code",
   "execution_count": 50,
   "id": "a76ecb5b",
   "metadata": {},
   "outputs": [
    {
     "data": {
      "text/plain": [
       "['Apple',\n",
       " 'Pineapple',\n",
       " 'Cherry',\n",
       " 'pawpaw',\n",
       " 'pawpaw',\n",
       " 'pawpaw',\n",
       " 'pawpaw',\n",
       " 'pawpaw',\n",
       " 'Banana',\n",
       " 'Watermelon',\n",
       " 'Mango',\n",
       " 'Peaches',\n",
       " 'Onions']"
      ]
     },
     "execution_count": 50,
     "metadata": {},
     "output_type": "execute_result"
    }
   ],
   "source": [
    "fruits2"
   ]
  },
  {
   "cell_type": "code",
   "execution_count": 51,
   "id": "dd0f825f",
   "metadata": {},
   "outputs": [
    {
     "data": {
      "text/plain": [
       "'Onions'"
      ]
     },
     "execution_count": 51,
     "metadata": {},
     "output_type": "execute_result"
    }
   ],
   "source": [
    "# pop\n",
    "# the pop methods removes the last item of the list item of the list of an index is not passed\n",
    "fruits2.pop()"
   ]
  },
  {
   "cell_type": "code",
   "execution_count": 54,
   "id": "d545b36f",
   "metadata": {},
   "outputs": [],
   "source": [
    "fruits2 = set(fruits2)\n",
    "fruits2 = list(fruits2)"
   ]
  },
  {
   "cell_type": "code",
   "execution_count": 55,
   "id": "f3017837",
   "metadata": {},
   "outputs": [
    {
     "data": {
      "text/plain": [
       "['Peaches',\n",
       " 'pawpaw',\n",
       " 'Pineapple',\n",
       " 'Mango',\n",
       " 'Cherry',\n",
       " 'Watermelon',\n",
       " 'Banana',\n",
       " 'Apple']"
      ]
     },
     "execution_count": 55,
     "metadata": {},
     "output_type": "execute_result"
    }
   ],
   "source": [
    "fruits2"
   ]
  },
  {
   "cell_type": "code",
   "execution_count": 57,
   "id": "18e545ea",
   "metadata": {},
   "outputs": [],
   "source": [
    "# remove\n",
    "fruits2.remove(\"Pineapple\")"
   ]
  },
  {
   "cell_type": "code",
   "execution_count": 58,
   "id": "c3fca3d8",
   "metadata": {},
   "outputs": [
    {
     "data": {
      "text/plain": [
       "['Peaches', 'pawpaw', 'Mango', 'Cherry', 'Watermelon', 'Banana', 'Apple']"
      ]
     },
     "execution_count": 58,
     "metadata": {},
     "output_type": "execute_result"
    }
   ],
   "source": [
    "fruits2"
   ]
  },
  {
   "cell_type": "code",
   "execution_count": 59,
   "id": "7424a4ce",
   "metadata": {},
   "outputs": [],
   "source": [
    "del fruits"
   ]
  },
  {
   "cell_type": "markdown",
   "id": "9da68379",
   "metadata": {},
   "source": [
    "**TUPLES**"
   ]
  },
  {
   "cell_type": "code",
   "execution_count": 62,
   "id": "b90b23a6",
   "metadata": {},
   "outputs": [],
   "source": [
    "randomTuples = (12,\"python\",True,False,4j,[1,2,3,4],'python')"
   ]
  },
  {
   "cell_type": "code",
   "execution_count": 63,
   "id": "e539da7b",
   "metadata": {},
   "outputs": [
    {
     "data": {
      "text/plain": [
       "(12, 'python', True, False, 4j, [1, 2, 3, 4], 'python')"
      ]
     },
     "execution_count": 63,
     "metadata": {},
     "output_type": "execute_result"
    }
   ],
   "source": [
    "randomTuples"
   ]
  },
  {
   "cell_type": "code",
   "execution_count": 64,
   "id": "41cba7d3",
   "metadata": {},
   "outputs": [
    {
     "data": {
      "text/plain": [
       "True"
      ]
     },
     "execution_count": 64,
     "metadata": {},
     "output_type": "execute_result"
    }
   ],
   "source": [
    "randomTuples[2]"
   ]
  },
  {
   "cell_type": "code",
   "execution_count": 66,
   "id": "a773de05",
   "metadata": {},
   "outputs": [
    {
     "data": {
      "text/plain": [
       "[1, 2, 3, 4]"
      ]
     },
     "execution_count": 66,
     "metadata": {},
     "output_type": "execute_result"
    }
   ],
   "source": [
    "randomTuples[5]"
   ]
  },
  {
   "cell_type": "code",
   "execution_count": 67,
   "id": "71ddf997",
   "metadata": {},
   "outputs": [
    {
     "data": {
      "text/plain": [
       "4"
      ]
     },
     "execution_count": 67,
     "metadata": {},
     "output_type": "execute_result"
    }
   ],
   "source": [
    "randomTuples[5][-1]"
   ]
  },
  {
   "cell_type": "code",
   "execution_count": 68,
   "id": "ea8e5940",
   "metadata": {},
   "outputs": [
    {
     "data": {
      "text/plain": [
       "(12, 56, [1, 2, 3, [90, 12]])"
      ]
     },
     "execution_count": 68,
     "metadata": {},
     "output_type": "execute_result"
    }
   ],
   "source": [
    "numbers2 = (12,56,[1,2,3,[90,12]])\n",
    "numbers2"
   ]
  },
  {
   "cell_type": "code",
   "execution_count": 72,
   "id": "80c1fda8",
   "metadata": {},
   "outputs": [
    {
     "data": {
      "text/plain": [
       "90"
      ]
     },
     "execution_count": 72,
     "metadata": {},
     "output_type": "execute_result"
    }
   ],
   "source": [
    "numbers2[2][3][0]"
   ]
  },
  {
   "cell_type": "code",
   "execution_count": 73,
   "id": "dfe4dd35",
   "metadata": {},
   "outputs": [
    {
     "data": {
      "text/plain": [
       "(12, 'python', True, False, 4j, [1, 2, 3, 4], 'python')"
      ]
     },
     "execution_count": 73,
     "metadata": {},
     "output_type": "execute_result"
    }
   ],
   "source": [
    "# add an item to an existing tuple\n",
    "randomTuples\n"
   ]
  },
  {
   "cell_type": "code",
   "execution_count": 74,
   "id": "a8157564",
   "metadata": {},
   "outputs": [
    {
     "data": {
      "text/plain": [
       "tuple"
      ]
     },
     "execution_count": 74,
     "metadata": {},
     "output_type": "execute_result"
    }
   ],
   "source": [
    "type(randomTuples)"
   ]
  },
  {
   "cell_type": "code",
   "execution_count": 75,
   "id": "19afe87e",
   "metadata": {},
   "outputs": [
    {
     "data": {
      "text/plain": [
       "(12, 'python', True, False, 4j, [1, 2, 3, 4], 'python', 'javascript')"
      ]
     },
     "execution_count": 75,
     "metadata": {},
     "output_type": "execute_result"
    }
   ],
   "source": [
    "# cast randomTuples to List\n",
    "tuplesConv = list(randomTuples)\n",
    "\n",
    "# append\n",
    "tuplesConv.append(\"javascript\")\n",
    "tuplesConv\n",
    "\n",
    "# cast back to tuple\n",
    "randomTuples = tuple(tuplesConv)\n",
    "randomTuples\n"
   ]
  },
  {
   "cell_type": "markdown",
   "id": "32319ad1",
   "metadata": {},
   "source": [
    "**SETS**\n",
    "SEts are unordered, immutable, and does not allow duplicate values"
   ]
  },
  {
   "cell_type": "code",
   "execution_count": 76,
   "id": "0eb16f2f",
   "metadata": {},
   "outputs": [
    {
     "data": {
      "text/plain": [
       "{14, 19, 23, 32, 65}"
      ]
     },
     "execution_count": 76,
     "metadata": {},
     "output_type": "execute_result"
    }
   ],
   "source": [
    "setOfNumbers = {23,14,65,32,19,23,23,23}\n",
    "setOfNumbers"
   ]
  },
  {
   "cell_type": "code",
   "execution_count": 78,
   "id": "d1a5d6cc",
   "metadata": {},
   "outputs": [],
   "source": [
    "setOfNumbers.add(39)"
   ]
  },
  {
   "cell_type": "code",
   "execution_count": 79,
   "id": "fde3dfc2",
   "metadata": {},
   "outputs": [
    {
     "data": {
      "text/plain": [
       "{14, 19, 23, 32, 39, 65}"
      ]
     },
     "execution_count": 79,
     "metadata": {},
     "output_type": "execute_result"
    }
   ],
   "source": [
    "setOfNumbers"
   ]
  },
  {
   "cell_type": "code",
   "execution_count": 80,
   "id": "c006538c",
   "metadata": {},
   "outputs": [],
   "source": [
    "setOfFruits1 = {\"Apple\",\"Cherry\",\"Banana\"}\n",
    "setOfFruits2 = {\"Cherry\",\"Mango\",\"Pawpaw\",\"Apple\"}"
   ]
  },
  {
   "cell_type": "code",
   "execution_count": 82,
   "id": "6dd353af",
   "metadata": {},
   "outputs": [
    {
     "data": {
      "text/plain": [
       "{'Apple', 'Banana', 'Cherry', 'Mango', 'Pawpaw'}"
      ]
     },
     "execution_count": 82,
     "metadata": {},
     "output_type": "execute_result"
    }
   ],
   "source": [
    "# UNION\n",
    "setOfFruits1.union(setOfFruits2)"
   ]
  },
  {
   "cell_type": "code",
   "execution_count": 83,
   "id": "83b82e64",
   "metadata": {},
   "outputs": [
    {
     "data": {
      "text/plain": [
       "{'Apple', 'Cherry'}"
      ]
     },
     "execution_count": 83,
     "metadata": {},
     "output_type": "execute_result"
    }
   ],
   "source": [
    "# INTERSECTION\n",
    "setOfFruits1.intersection(setOfFruits2)"
   ]
  },
  {
   "cell_type": "code",
   "execution_count": 84,
   "id": "b7741a69",
   "metadata": {},
   "outputs": [
    {
     "data": {
      "text/plain": [
       "{'Banana'}"
      ]
     },
     "execution_count": 84,
     "metadata": {},
     "output_type": "execute_result"
    }
   ],
   "source": [
    "# DIFFERENCE\n",
    "setOfFruits1.difference(setOfFruits2)"
   ]
  },
  {
   "cell_type": "code",
   "execution_count": 86,
   "id": "b9b6ef9b",
   "metadata": {},
   "outputs": [
    {
     "data": {
      "text/plain": [
       "{'Mango', 'Pawpaw'}"
      ]
     },
     "execution_count": 86,
     "metadata": {},
     "output_type": "execute_result"
    }
   ],
   "source": [
    "setOfFruits2.difference(setOfFruits1)"
   ]
  },
  {
   "cell_type": "markdown",
   "id": "87b8f694",
   "metadata": {},
   "source": [
    "DICTIONARIES\n",
    "\n",
    "Dictionaries are ordered,mutable and does not allow duplicate values\n",
    "\n",
    "KEY:VALUE"
   ]
  },
  {
   "cell_type": "code",
   "execution_count": 6,
   "id": "4298949c",
   "metadata": {},
   "outputs": [],
   "source": [
    "car_details = {\"car name\":\"Volvo\",\n",
    "               \"colour\" : \"Red\",\n",
    "               \"price\" : 20000}"
   ]
  },
  {
   "cell_type": "code",
   "execution_count": 2,
   "id": "226eb891",
   "metadata": {},
   "outputs": [
    {
     "data": {
      "text/plain": [
       "dict"
      ]
     },
     "execution_count": 2,
     "metadata": {},
     "output_type": "execute_result"
    }
   ],
   "source": [
    "type(car_details)"
   ]
  },
  {
   "cell_type": "code",
   "execution_count": 3,
   "id": "7bd6cbe0",
   "metadata": {},
   "outputs": [
    {
     "data": {
      "text/plain": [
       "'Red'"
      ]
     },
     "execution_count": 3,
     "metadata": {},
     "output_type": "execute_result"
    }
   ],
   "source": [
    "car_details[\"colour\"]"
   ]
  },
  {
   "cell_type": "code",
   "execution_count": 7,
   "id": "ac0155c1",
   "metadata": {},
   "outputs": [
    {
     "data": {
      "text/plain": [
       "20000"
      ]
     },
     "execution_count": 7,
     "metadata": {},
     "output_type": "execute_result"
    }
   ],
   "source": [
    "car_details[\"price\"]"
   ]
  },
  {
   "cell_type": "code",
   "execution_count": 8,
   "id": "64f942c3",
   "metadata": {},
   "outputs": [
    {
     "data": {
      "text/plain": [
       "dict_keys(['car name', 'colour', 'price'])"
      ]
     },
     "execution_count": 8,
     "metadata": {},
     "output_type": "execute_result"
    }
   ],
   "source": [
    "car_details.keys()"
   ]
  },
  {
   "cell_type": "code",
   "execution_count": 9,
   "id": "c3298d29",
   "metadata": {},
   "outputs": [
    {
     "data": {
      "text/plain": [
       "dict_values(['Volvo', 'Red', 20000])"
      ]
     },
     "execution_count": 9,
     "metadata": {},
     "output_type": "execute_result"
    }
   ],
   "source": [
    "car_details.values()"
   ]
  },
  {
   "cell_type": "code",
   "execution_count": 10,
   "id": "1f77b480",
   "metadata": {},
   "outputs": [
    {
     "data": {
      "text/plain": [
       "dict_items([('car name', 'Volvo'), ('colour', 'Red'), ('price', 20000)])"
      ]
     },
     "execution_count": 10,
     "metadata": {},
     "output_type": "execute_result"
    }
   ],
   "source": [
    "car_details.items()"
   ]
  },
  {
   "cell_type": "code",
   "execution_count": 11,
   "id": "f0ab1fee",
   "metadata": {},
   "outputs": [
    {
     "data": {
      "text/plain": [
       "{'car name': 'Volvo', 'colour': 'Red', 'price': 20000}"
      ]
     },
     "execution_count": 11,
     "metadata": {},
     "output_type": "execute_result"
    }
   ],
   "source": [
    "car_details"
   ]
  },
  {
   "cell_type": "code",
   "execution_count": 12,
   "id": "bf597ccf",
   "metadata": {},
   "outputs": [],
   "source": [
    "car_details[\"colour\"] = \"Silver\""
   ]
  },
  {
   "cell_type": "code",
   "execution_count": 13,
   "id": "d7d72028",
   "metadata": {},
   "outputs": [
    {
     "data": {
      "text/plain": [
       "{'car name': 'Volvo', 'colour': 'Silver', 'price': 20000}"
      ]
     },
     "execution_count": 13,
     "metadata": {},
     "output_type": "execute_result"
    }
   ],
   "source": [
    "car_details"
   ]
  },
  {
   "cell_type": "code",
   "execution_count": 14,
   "id": "f8ca3bb3",
   "metadata": {},
   "outputs": [],
   "source": [
    "car_details[\"Year\"] = 2023"
   ]
  },
  {
   "cell_type": "code",
   "execution_count": 15,
   "id": "6da46b8a",
   "metadata": {},
   "outputs": [
    {
     "data": {
      "text/plain": [
       "{'car name': 'Volvo', 'colour': 'Silver', 'price': 20000, 'Year': 2023}"
      ]
     },
     "execution_count": 15,
     "metadata": {},
     "output_type": "execute_result"
    }
   ],
   "source": [
    "car_details"
   ]
  },
  {
   "cell_type": "code",
   "execution_count": 16,
   "id": "d0cb0656",
   "metadata": {},
   "outputs": [],
   "source": [
    "house = {\n",
    "    \"type\":[\"Bungalow\",\"Duplex\"],\n",
    "    \"colour\" : [\"white\", \"Green\"],\n",
    "    \"plots\" : [2,4],\n",
    "    \"price\" : [55000000, 140000000]\n",
    "}"
   ]
  },
  {
   "cell_type": "code",
   "execution_count": 17,
   "id": "b5da880e",
   "metadata": {},
   "outputs": [
    {
     "data": {
      "text/plain": [
       "dict_keys(['type', 'colour', 'plots', 'price'])"
      ]
     },
     "execution_count": 17,
     "metadata": {},
     "output_type": "execute_result"
    }
   ],
   "source": [
    "# keys\n",
    "house.keys()"
   ]
  },
  {
   "cell_type": "code",
   "execution_count": 18,
   "id": "642be608",
   "metadata": {},
   "outputs": [
    {
     "data": {
      "text/plain": [
       "dict_values([['Bungalow', 'Duplex'], ['white', 'Green'], [2, 4], [55000000, 140000000]])"
      ]
     },
     "execution_count": 18,
     "metadata": {},
     "output_type": "execute_result"
    }
   ],
   "source": [
    "# values\n",
    "house.values()"
   ]
  },
  {
   "cell_type": "code",
   "execution_count": 19,
   "id": "800ac57d",
   "metadata": {},
   "outputs": [
    {
     "data": {
      "text/plain": [
       "dict_items([('type', ['Bungalow', 'Duplex']), ('colour', ['white', 'Green']), ('plots', [2, 4]), ('price', [55000000, 140000000])])"
      ]
     },
     "execution_count": 19,
     "metadata": {},
     "output_type": "execute_result"
    }
   ],
   "source": [
    "# items\n",
    "house.items()"
   ]
  },
  {
   "cell_type": "code",
   "execution_count": 20,
   "id": "3d88b48e",
   "metadata": {},
   "outputs": [],
   "source": [
    "# A white bungalow (2 plots) is available for sale for 55000000"
   ]
  },
  {
   "cell_type": "code",
   "execution_count": 21,
   "id": "3ef42682",
   "metadata": {},
   "outputs": [
    {
     "data": {
      "text/plain": [
       "'white'"
      ]
     },
     "execution_count": 21,
     "metadata": {},
     "output_type": "execute_result"
    }
   ],
   "source": [
    "house[\"colour\"][0]"
   ]
  },
  {
   "cell_type": "code",
   "execution_count": 25,
   "id": "55fd7dc1",
   "metadata": {},
   "outputs": [
    {
     "name": "stdout",
     "output_type": "stream",
     "text": [
      "A white Bungalow (2 plots) is available for 55000000\n"
     ]
    }
   ],
   "source": [
    "print(f'A {house[\"colour\"][0]} {house[\"type\"][0]} ({house[\"plots\"][0]} plots) is available for {house[\"price\"][0]}')"
   ]
  },
  {
   "cell_type": "code",
   "execution_count": 26,
   "id": "d5102770",
   "metadata": {},
   "outputs": [
    {
     "data": {
      "text/plain": [
       "[2, 4]"
      ]
     },
     "execution_count": 26,
     "metadata": {},
     "output_type": "execute_result"
    }
   ],
   "source": [
    "house.pop(\"plots\")"
   ]
  },
  {
   "cell_type": "code",
   "execution_count": 27,
   "id": "38064031",
   "metadata": {},
   "outputs": [
    {
     "data": {
      "text/plain": [
       "{'type': ['Bungalow', 'Duplex'],\n",
       " 'colour': ['white', 'Green'],\n",
       " 'price': [55000000, 140000000]}"
      ]
     },
     "execution_count": 27,
     "metadata": {},
     "output_type": "execute_result"
    }
   ],
   "source": [
    "house"
   ]
  },
  {
   "cell_type": "code",
   "execution_count": 28,
   "id": "85b3980c",
   "metadata": {},
   "outputs": [],
   "source": [
    "house2 = house.copy()"
   ]
  },
  {
   "cell_type": "code",
   "execution_count": 29,
   "id": "c9d061cc",
   "metadata": {},
   "outputs": [
    {
     "data": {
      "text/plain": [
       "{'type': ['Bungalow', 'Duplex'],\n",
       " 'colour': ['white', 'Green'],\n",
       " 'price': [55000000, 140000000]}"
      ]
     },
     "execution_count": 29,
     "metadata": {},
     "output_type": "execute_result"
    }
   ],
   "source": [
    "house2"
   ]
  },
  {
   "cell_type": "code",
   "execution_count": 30,
   "id": "3e8264ff",
   "metadata": {},
   "outputs": [],
   "source": [
    "house2.clear()"
   ]
  },
  {
   "cell_type": "code",
   "execution_count": 31,
   "id": "503ffa0e",
   "metadata": {},
   "outputs": [
    {
     "data": {
      "text/plain": [
       "{}"
      ]
     },
     "execution_count": 31,
     "metadata": {},
     "output_type": "execute_result"
    }
   ],
   "source": [
    "house2"
   ]
  },
  {
   "cell_type": "code",
   "execution_count": 32,
   "id": "9e945114",
   "metadata": {},
   "outputs": [
    {
     "data": {
      "text/plain": [
       "['Bungalow', 'Duplex']"
      ]
     },
     "execution_count": 32,
     "metadata": {},
     "output_type": "execute_result"
    }
   ],
   "source": [
    "house.get(\"type\")"
   ]
  },
  {
   "cell_type": "code",
   "execution_count": 33,
   "id": "8fc414ae",
   "metadata": {},
   "outputs": [
    {
     "data": {
      "text/plain": [
       "['Bungalow', 'Duplex']"
      ]
     },
     "execution_count": 33,
     "metadata": {},
     "output_type": "execute_result"
    }
   ],
   "source": [
    "house[\"type\"]"
   ]
  },
  {
   "cell_type": "markdown",
   "id": "3252885a",
   "metadata": {},
   "source": [
    "**LOOPS**\n",
    "\n",
    "Loops means iteration of statements until a special condition is satisfied.\n",
    "\n",
    "TYPE OF LOOPS\n",
    "\n",
    "- FOR LOOPS\n",
    "- WHILE LOOPS"
   ]
  },
  {
   "cell_type": "code",
   "execution_count": 37,
   "id": "d52de7f5",
   "metadata": {},
   "outputs": [
    {
     "data": {
      "text/plain": [
       "[10, 11, 12, 13, 14, 15, 16, 17]"
      ]
     },
     "execution_count": 37,
     "metadata": {},
     "output_type": "execute_result"
    }
   ],
   "source": [
    "values = [10,11,12,13,14,15,16,17]\n",
    "values"
   ]
  },
  {
   "cell_type": "code",
   "execution_count": 39,
   "id": "fa3c237c",
   "metadata": {},
   "outputs": [],
   "source": [
    "a = 11\n",
    "if a%2==0:\n",
    "    print(a)"
   ]
  },
  {
   "cell_type": "code",
   "execution_count": 40,
   "id": "fc7ae2e8",
   "metadata": {},
   "outputs": [
    {
     "name": "stdout",
     "output_type": "stream",
     "text": [
      "10\n",
      "12\n",
      "14\n",
      "16\n"
     ]
    }
   ],
   "source": [
    "for i in values:\n",
    "    if i%2 ==0:\n",
    "        print(i)"
   ]
  },
  {
   "cell_type": "code",
   "execution_count": 41,
   "id": "1602e83b",
   "metadata": {},
   "outputs": [
    {
     "data": {
      "text/plain": [
       "['noon', 'home', 'madam', 'laptop', 'mom', 'light']"
      ]
     },
     "execution_count": 41,
     "metadata": {},
     "output_type": "execute_result"
    }
   ],
   "source": [
    "words = [\"noon\",\"home\",\"madam\",\"laptop\",\"mom\",\"light\"]\n",
    "words\n"
   ]
  },
  {
   "cell_type": "code",
   "execution_count": 46,
   "id": "8d9d0d15",
   "metadata": {},
   "outputs": [
    {
     "name": "stdout",
     "output_type": "stream",
     "text": [
      "noon\n",
      "madam\n",
      "mom\n"
     ]
    }
   ],
   "source": [
    "palindrome = \"noon\",\"madam\",\"mom\"\n",
    "\n",
    "for i in words:\n",
    "    if i[0:]==i[::-1]:\n",
    "        print(i)"
   ]
  },
  {
   "cell_type": "code",
   "execution_count": 47,
   "id": "60be73ef",
   "metadata": {},
   "outputs": [
    {
     "data": {
      "text/plain": [
       "[10, 11, 12, 13, 14, 15, 16, 17]"
      ]
     },
     "execution_count": 47,
     "metadata": {},
     "output_type": "execute_result"
    }
   ],
   "source": [
    "values"
   ]
  },
  {
   "cell_type": "code",
   "execution_count": 50,
   "id": "371712ae",
   "metadata": {},
   "outputs": [
    {
     "name": "stdout",
     "output_type": "stream",
     "text": [
      "8\n",
      "9\n",
      "10\n",
      "11\n",
      "12\n",
      "13\n",
      "14\n",
      "15\n"
     ]
    }
   ],
   "source": [
    "for a in values:\n",
    "    a = a-2\n",
    "    print(a)\n",
    "    "
   ]
  },
  {
   "cell_type": "code",
   "execution_count": 49,
   "id": "97c09832",
   "metadata": {},
   "outputs": [
    {
     "name": "stdout",
     "output_type": "stream",
     "text": [
      "12\n",
      "13\n",
      "14\n",
      "15\n",
      "16\n",
      "17\n",
      "18\n",
      "19\n"
     ]
    }
   ],
   "source": [
    "for i in values:\n",
    "    print(i+2)"
   ]
  },
  {
   "cell_type": "markdown",
   "id": "04488fd8",
   "metadata": {},
   "source": [
    "**WHILE LOOPS(indefinite)"
   ]
  },
  {
   "cell_type": "code",
   "execution_count": 1,
   "id": "7361117a",
   "metadata": {},
   "outputs": [
    {
     "name": "stdout",
     "output_type": "stream",
     "text": [
      "12\n",
      "14\n",
      "16\n",
      "18\n",
      "20\n"
     ]
    }
   ],
   "source": [
    "a = 10\n",
    "\n",
    "while a < 20:\n",
    "    a = a+2\n",
    "    print(a)"
   ]
  },
  {
   "cell_type": "markdown",
   "id": "646687a2",
   "metadata": {},
   "source": [
    "**Break And Continue Statement"
   ]
  },
  {
   "cell_type": "code",
   "execution_count": 3,
   "id": "9ac95e6d",
   "metadata": {},
   "outputs": [
    {
     "name": "stdout",
     "output_type": "stream",
     "text": [
      "6\n",
      "7\n",
      "8\n",
      "9\n",
      "10\n"
     ]
    }
   ],
   "source": [
    "\n",
    "# break\n",
    "x = 5\n",
    "\n",
    "while x < 15:\n",
    "    x = x + 1\n",
    "    print(x)\n",
    "    if x == 10:\n",
    "        break"
   ]
  },
  {
   "cell_type": "code",
   "execution_count": 7,
   "id": "9124df10",
   "metadata": {},
   "outputs": [
    {
     "name": "stdout",
     "output_type": "stream",
     "text": [
      "2\n",
      "4\n",
      "5\n"
     ]
    }
   ],
   "source": [
    "# continue\n",
    "a = 1\n",
    "\n",
    "while a < 5:\n",
    "    a = a + 1\n",
    "    if a == 3:\n",
    "        continue\n",
    "    print(a)"
   ]
  },
  {
   "cell_type": "markdown",
   "id": "2c25f58a",
   "metadata": {},
   "source": [
    "** FUNCTION"
   ]
  },
  {
   "cell_type": "markdown",
   "id": "7168e093",
   "metadata": {},
   "source": [
    "Function is a block of code which only runs when its called. You can pass in arguments/parameters into a function.\n",
    "\n",
    "def function_name(args/params):\n",
    "    \n",
    "    ...context"
   ]
  },
  {
   "cell_type": "code",
   "execution_count": 9,
   "id": "5e415cc3",
   "metadata": {},
   "outputs": [],
   "source": [
    "def greet():\n",
    "    print(\"Good Morning\")\n"
   ]
  },
  {
   "cell_type": "code",
   "execution_count": 10,
   "id": "0b6225a6",
   "metadata": {},
   "outputs": [
    {
     "name": "stdout",
     "output_type": "stream",
     "text": [
      "Good Morning\n"
     ]
    }
   ],
   "source": [
    "greet()"
   ]
  },
  {
   "cell_type": "code",
   "execution_count": 13,
   "id": "e3abad14",
   "metadata": {},
   "outputs": [],
   "source": [
    " # function with a positional argument\n",
    "def greet(name):\n",
    "    print(\"Good Morning\", name)"
   ]
  },
  {
   "cell_type": "code",
   "execution_count": 14,
   "id": "a290c8e7",
   "metadata": {},
   "outputs": [
    {
     "name": "stdout",
     "output_type": "stream",
     "text": [
      "Good Morning Dan\n"
     ]
    }
   ],
   "source": [
    "greet(\"Dan\")"
   ]
  },
  {
   "cell_type": "code",
   "execution_count": 15,
   "id": "ce842e1c",
   "metadata": {},
   "outputs": [],
   "source": [
    "# function with a positional argument\n",
    "def introduction(name, age, course):\n",
    "    print(f\"My name is {name},i am {age} years old, and i study {course}\")"
   ]
  },
  {
   "cell_type": "code",
   "execution_count": 16,
   "id": "a0e09d85",
   "metadata": {},
   "outputs": [
    {
     "name": "stdout",
     "output_type": "stream",
     "text": [
      "My name is kate,i am 6 years old, and i study data analysis\n"
     ]
    }
   ],
   "source": [
    "introduction(\"kate\", 6,\"data analysis\")"
   ]
  },
  {
   "cell_type": "code",
   "execution_count": 18,
   "id": "a5199312",
   "metadata": {},
   "outputs": [
    {
     "name": "stdout",
     "output_type": "stream",
     "text": [
      "13 is an odd number\n"
     ]
    }
   ],
   "source": [
    "# create a function to check if a number is an even number\n",
    "number = 13\n",
    "\n",
    "if number%2 == 0:\n",
    "    print(f\"{number} is an even number\")\n",
    "else:\n",
    "    print(f\"{number} is an odd number\")\n"
   ]
  },
  {
   "cell_type": "code",
   "execution_count": 19,
   "id": "2ae793fd",
   "metadata": {},
   "outputs": [],
   "source": [
    "def checknum(number):\n",
    "    \n",
    "    if number%2 == 0:\n",
    "        print(f\"{number} is an even number\")\n",
    "    else:\n",
    "        print(f\"{number} is an odd number\")\n",
    "        "
   ]
  },
  {
   "cell_type": "code",
   "execution_count": 21,
   "id": "a2ac3e80",
   "metadata": {},
   "outputs": [
    {
     "name": "stdout",
     "output_type": "stream",
     "text": [
      "23 is an odd number\n"
     ]
    }
   ],
   "source": [
    "checknum(23)"
   ]
  },
  {
   "cell_type": "markdown",
   "id": "88e651b2",
   "metadata": {},
   "source": [
    "**ASSIGNMENT**\n",
    "\n",
    "1.Write a function to filter out odd numbers from [23,43,56,78,14,21]\n",
    "\n",
    "2.Write a function to check if a word is a palindrome eg(noon)"
   ]
  },
  {
   "cell_type": "code",
   "execution_count": null,
   "id": "69d8b91c",
   "metadata": {},
   "outputs": [],
   "source": []
  }
 ],
 "metadata": {
  "kernelspec": {
   "display_name": "Python 3 (ipykernel)",
   "language": "python",
   "name": "python3"
  },
  "language_info": {
   "codemirror_mode": {
    "name": "ipython",
    "version": 3
   },
   "file_extension": ".py",
   "mimetype": "text/x-python",
   "name": "python",
   "nbconvert_exporter": "python",
   "pygments_lexer": "ipython3",
   "version": "3.11.4"
  }
 },
 "nbformat": 4,
 "nbformat_minor": 5
}
