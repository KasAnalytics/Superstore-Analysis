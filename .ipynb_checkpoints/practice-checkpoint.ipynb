{
 "cells": [
  {
   "cell_type": "code",
   "execution_count": 4,
   "id": "e454dee1",
   "metadata": {},
   "outputs": [
    {
     "data": {
      "text/plain": [
       "12344556766"
      ]
     },
     "execution_count": 4,
     "metadata": {},
     "output_type": "execute_result"
    }
   ],
   "source": [
    "12344556766"
   ]
  },
  {
   "cell_type": "markdown",
   "id": "91627cb2",
   "metadata": {},
   "source": [
    "Data Analysis"
   ]
  },
  {
   "cell_type": "markdown",
   "id": "26bf20a5",
   "metadata": {},
   "source": [
    "# Data \n",
    "## Data\n",
    "### Data"
   ]
  },
  {
   "cell_type": "markdown",
   "id": "0a58d71f",
   "metadata": {},
   "source": [
    "**Data Analysis** Class"
   ]
  },
  {
   "cell_type": "code",
   "execution_count": 2,
   "id": "944f4241",
   "metadata": {},
   "outputs": [
    {
     "name": "stdout",
     "output_type": "stream",
     "text": [
      "Hello World!\n"
     ]
    }
   ],
   "source": [
    "print(\"Hello World!\")"
   ]
  },
  {
   "cell_type": "code",
   "execution_count": 3,
   "id": "7726173f",
   "metadata": {},
   "outputs": [
    {
     "name": "stdout",
     "output_type": "stream",
     "text": [
      "Hello World!\n"
     ]
    }
   ],
   "source": [
    "print('Hello World!')"
   ]
  },
  {
   "cell_type": "code",
   "execution_count": 11,
   "id": "a2542fd6",
   "metadata": {},
   "outputs": [
    {
     "name": "stdout",
     "output_type": "stream",
     "text": [
      "Hello\n"
     ]
    }
   ],
   "source": [
    "print(\"Hello\")\n",
    "print(\"Hello WOrld!\")\n",
    "print(\"Hi\")\n",
    "print(\"Data Analysis!\")"
   ]
  },
  {
   "cell_type": "code",
   "execution_count": 13,
   "id": "85335566",
   "metadata": {},
   "outputs": [
    {
     "data": {
      "text/plain": [
       "'\\nprint(\"Hello\")\\nprint(\"Hello WOrld!\")\\nprint(\"Hi\")\\nprint(\"Data Analysis!\")\\n'"
      ]
     },
     "execution_count": 13,
     "metadata": {},
     "output_type": "execute_result"
    }
   ],
   "source": [
    "\n",
    "\"\"\"\n",
    "print(\"Hello\")\n",
    "print(\"Hello WOrld!\")\n",
    "print(\"Hi\")\n",
    "print(\"Data Analysis!\")\n",
    "\"\"\""
   ]
  },
  {
   "cell_type": "code",
   "execution_count": 15,
   "id": "59b6364c",
   "metadata": {},
   "outputs": [
    {
     "name": "stdout",
     "output_type": "stream",
     "text": [
      "\n",
      "Data Analysis\n",
      "class\n",
      "\n"
     ]
    }
   ],
   "source": [
    "# this prints out the description\n",
    "print(\"\"\"\n",
    "Data Analysis\n",
    "class\n",
    "\"\"\")"
   ]
  },
  {
   "cell_type": "code",
   "execution_count": 17,
   "id": "2c71707c",
   "metadata": {},
   "outputs": [
    {
     "name": "stdout",
     "output_type": "stream",
     "text": [
      "Data Analysis\n"
     ]
    }
   ],
   "source": [
    "# VARIABLES ARE CONTAINER FOR STORING VALUES\n",
    "# LEGAL VARIABLES\n",
    "# Camel Case\n",
    "myCourse = \"Data Analysis\"\n",
    "print(myCourse)"
   ]
  },
  {
   "cell_type": "code",
   "execution_count": 19,
   "id": "d5e544ea",
   "metadata": {},
   "outputs": [
    {
     "data": {
      "text/plain": [
       "'Data Analysis'"
      ]
     },
     "execution_count": 19,
     "metadata": {},
     "output_type": "execute_result"
    }
   ],
   "source": [
    "myCourse"
   ]
  },
  {
   "cell_type": "code",
   "execution_count": 21,
   "id": "15aa03ab",
   "metadata": {},
   "outputs": [
    {
     "data": {
      "text/plain": [
       "'Software Development'"
      ]
     },
     "execution_count": 21,
     "metadata": {},
     "output_type": "execute_result"
    }
   ],
   "source": [
    "MyCourse = \"Software Development\"\n",
    "MyCourse"
   ]
  },
  {
   "cell_type": "code",
   "execution_count": 22,
   "id": "04d91bc1",
   "metadata": {},
   "outputs": [
    {
     "data": {
      "text/plain": [
       "1234567"
      ]
     },
     "execution_count": 22,
     "metadata": {},
     "output_type": "execute_result"
    }
   ],
   "source": [
    "MyNumber = 1234567\n",
    "MyNumber"
   ]
  },
  {
   "cell_type": "code",
   "execution_count": 23,
   "id": "94a5f9e0",
   "metadata": {},
   "outputs": [
    {
     "data": {
      "text/plain": [
       "'Frontend Development'"
      ]
     },
     "execution_count": 23,
     "metadata": {},
     "output_type": "execute_result"
    }
   ],
   "source": [
    "my_course = 'Frontend Development'\n",
    "my_course"
   ]
  },
  {
   "cell_type": "code",
   "execution_count": 27,
   "id": "505ace86",
   "metadata": {},
   "outputs": [],
   "source": [
    "# ILLEGAL VARIABLES\n",
    "# my-course = \"Data Analysis\"\n",
    "# student ID = 3456732\n",
    "# 2mycourse = \"Frontend\""
   ]
  },
  {
   "cell_type": "markdown",
   "id": "7ad81d6c",
   "metadata": {},
   "source": [
    "**PRIMITIVE DATA TYPES**"
   ]
  },
  {
   "cell_type": "code",
   "execution_count": 28,
   "id": "4d9bfc49",
   "metadata": {},
   "outputs": [],
   "source": [
    "# STRINGS\n",
    "a = \"Hello World\"\n",
    "b = \"10\"\n",
    "c = \"30.7\""
   ]
  },
  {
   "cell_type": "code",
   "execution_count": 30,
   "id": "1fcede75",
   "metadata": {},
   "outputs": [
    {
     "data": {
      "text/plain": [
       "str"
      ]
     },
     "execution_count": 30,
     "metadata": {},
     "output_type": "execute_result"
    }
   ],
   "source": [
    "type(a)"
   ]
  },
  {
   "cell_type": "code",
   "execution_count": 31,
   "id": "404d10fe",
   "metadata": {},
   "outputs": [
    {
     "data": {
      "text/plain": [
       "str"
      ]
     },
     "execution_count": 31,
     "metadata": {},
     "output_type": "execute_result"
    }
   ],
   "source": [
    "type(b)"
   ]
  },
  {
   "cell_type": "code",
   "execution_count": 29,
   "id": "2bfcfaf4",
   "metadata": {
    "scrolled": true
   },
   "outputs": [
    {
     "name": "stdout",
     "output_type": "stream",
     "text": [
      "Hello World 10 30.7\n"
     ]
    }
   ],
   "source": [
    "print(a,b,c)"
   ]
  },
  {
   "cell_type": "code",
   "execution_count": 35,
   "id": "b3f40773",
   "metadata": {},
   "outputs": [],
   "source": [
    "# STRING METHODS\n",
    "\n",
    "# Capitalize\n",
    "name = \"samson\"\n",
    "name = name.capitalize()"
   ]
  },
  {
   "cell_type": "code",
   "execution_count": 37,
   "id": "31e3e28c",
   "metadata": {},
   "outputs": [
    {
     "data": {
      "text/plain": [
       "'Samson'"
      ]
     },
     "execution_count": 37,
     "metadata": {},
     "output_type": "execute_result"
    }
   ],
   "source": [
    "name"
   ]
  },
  {
   "cell_type": "code",
   "execution_count": 39,
   "id": "c14d24b7",
   "metadata": {},
   "outputs": [
    {
     "data": {
      "text/plain": [
       "'SAMSON'"
      ]
     },
     "execution_count": 39,
     "metadata": {},
     "output_type": "execute_result"
    }
   ],
   "source": [
    "# upper\n",
    "name.upper()"
   ]
  },
  {
   "cell_type": "code",
   "execution_count": 43,
   "id": "c7e4ab75",
   "metadata": {},
   "outputs": [
    {
     "data": {
      "text/plain": [
       "'sam son'"
      ]
     },
     "execution_count": 43,
     "metadata": {},
     "output_type": "execute_result"
    }
   ],
   "source": [
    "# lower\n",
    "\n",
    "# strip\n",
    "name2 = \" sam son \"\n",
    "name2.strip()"
   ]
  },
  {
   "cell_type": "code",
   "execution_count": 46,
   "id": "8700aab3",
   "metadata": {},
   "outputs": [
    {
     "data": {
      "text/plain": [
       "'Samsom'"
      ]
     },
     "execution_count": 46,
     "metadata": {},
     "output_type": "execute_result"
    }
   ],
   "source": [
    "\n",
    "# replace\n",
    "name.replace(\"n\",\"m\")"
   ]
  },
  {
   "cell_type": "code",
   "execution_count": 48,
   "id": "6e9c588f",
   "metadata": {},
   "outputs": [],
   "source": [
    "# INTEGERS\n",
    "num1 = 10\n",
    "num2 = 20\n",
    "num3 = 30"
   ]
  },
  {
   "cell_type": "code",
   "execution_count": 49,
   "id": "7bda3a62",
   "metadata": {},
   "outputs": [
    {
     "data": {
      "text/plain": [
       "10"
      ]
     },
     "execution_count": 49,
     "metadata": {},
     "output_type": "execute_result"
    }
   ],
   "source": [
    "num1"
   ]
  },
  {
   "cell_type": "code",
   "execution_count": 52,
   "id": "79203389",
   "metadata": {},
   "outputs": [
    {
     "data": {
      "text/plain": [
       "int"
      ]
     },
     "execution_count": 52,
     "metadata": {},
     "output_type": "execute_result"
    }
   ],
   "source": [
    "type(num1)"
   ]
  },
  {
   "cell_type": "code",
   "execution_count": 51,
   "id": "c868db44",
   "metadata": {
    "scrolled": true
   },
   "outputs": [
    {
     "data": {
      "text/plain": [
       "20.5"
      ]
     },
     "execution_count": 51,
     "metadata": {},
     "output_type": "execute_result"
    }
   ],
   "source": [
    "# FLOATS\n",
    "float1 = 20.5\n",
    "float1"
   ]
  },
  {
   "cell_type": "code",
   "execution_count": 53,
   "id": "137820ef",
   "metadata": {},
   "outputs": [
    {
     "data": {
      "text/plain": [
       "float"
      ]
     },
     "execution_count": 53,
     "metadata": {},
     "output_type": "execute_result"
    }
   ],
   "source": [
    "type(float1)"
   ]
  },
  {
   "cell_type": "code",
   "execution_count": 56,
   "id": "43aad10d",
   "metadata": {},
   "outputs": [
    {
     "data": {
      "text/plain": [
       "bool"
      ]
     },
     "execution_count": 56,
     "metadata": {},
     "output_type": "execute_result"
    }
   ],
   "source": [
    "bool1 = True\n",
    "bool2 = False\n",
    "\n",
    "type(bool1)"
   ]
  },
  {
   "cell_type": "code",
   "execution_count": 57,
   "id": "d5cc27d6",
   "metadata": {},
   "outputs": [
    {
     "data": {
      "text/plain": [
       "bool"
      ]
     },
     "execution_count": 57,
     "metadata": {},
     "output_type": "execute_result"
    }
   ],
   "source": [
    "type(bool2)"
   ]
  },
  {
   "cell_type": "code",
   "execution_count": 61,
   "id": "4a73f096",
   "metadata": {},
   "outputs": [],
   "source": [
    "number = 1j"
   ]
  },
  {
   "cell_type": "code",
   "execution_count": 62,
   "id": "897257f2",
   "metadata": {},
   "outputs": [
    {
     "data": {
      "text/plain": [
       "1j"
      ]
     },
     "execution_count": 62,
     "metadata": {},
     "output_type": "execute_result"
    }
   ],
   "source": [
    "number"
   ]
  },
  {
   "cell_type": "code",
   "execution_count": 63,
   "id": "b5970d8a",
   "metadata": {},
   "outputs": [
    {
     "data": {
      "text/plain": [
       "complex"
      ]
     },
     "execution_count": 63,
     "metadata": {},
     "output_type": "execute_result"
    }
   ],
   "source": [
    "type(number)"
   ]
  },
  {
   "cell_type": "markdown",
   "id": "2b2fcb7f",
   "metadata": {},
   "source": [
    "**TYPE CASTING**"
   ]
  },
  {
   "cell_type": "code",
   "execution_count": 70,
   "id": "fd1e0a91",
   "metadata": {},
   "outputs": [
    {
     "data": {
      "text/plain": [
       "str"
      ]
     },
     "execution_count": 70,
     "metadata": {},
     "output_type": "execute_result"
    }
   ],
   "source": [
    "a = \"10\"\n",
    "type(a)"
   ]
  },
  {
   "cell_type": "code",
   "execution_count": 71,
   "id": "fea0f44b",
   "metadata": {},
   "outputs": [
    {
     "data": {
      "text/plain": [
       "'10'"
      ]
     },
     "execution_count": 71,
     "metadata": {},
     "output_type": "execute_result"
    }
   ],
   "source": [
    "a"
   ]
  },
  {
   "cell_type": "code",
   "execution_count": 73,
   "id": "782ca6a3",
   "metadata": {},
   "outputs": [
    {
     "data": {
      "text/plain": [
       "str"
      ]
     },
     "execution_count": 73,
     "metadata": {},
     "output_type": "execute_result"
    }
   ],
   "source": [
    "type(a)"
   ]
  },
  {
   "cell_type": "code",
   "execution_count": 74,
   "id": "c33286df",
   "metadata": {
    "scrolled": true
   },
   "outputs": [],
   "source": [
    "b = int(a)"
   ]
  },
  {
   "cell_type": "code",
   "execution_count": 75,
   "id": "79d363a0",
   "metadata": {},
   "outputs": [
    {
     "data": {
      "text/plain": [
       "int"
      ]
     },
     "execution_count": 75,
     "metadata": {},
     "output_type": "execute_result"
    }
   ],
   "source": [
    "type(b)"
   ]
  },
  {
   "cell_type": "code",
   "execution_count": 76,
   "id": "afbfb34c",
   "metadata": {},
   "outputs": [],
   "source": [
    "a = 5\n",
    "b = a"
   ]
  },
  {
   "cell_type": "code",
   "execution_count": 77,
   "id": "4e86d66c",
   "metadata": {},
   "outputs": [
    {
     "data": {
      "text/plain": [
       "5"
      ]
     },
     "execution_count": 77,
     "metadata": {},
     "output_type": "execute_result"
    }
   ],
   "source": [
    "a"
   ]
  },
  {
   "cell_type": "code",
   "execution_count": 78,
   "id": "5f876249",
   "metadata": {},
   "outputs": [
    {
     "data": {
      "text/plain": [
       "5"
      ]
     },
     "execution_count": 78,
     "metadata": {},
     "output_type": "execute_result"
    }
   ],
   "source": [
    "b"
   ]
  },
  {
   "cell_type": "code",
   "execution_count": 1,
   "id": "9357b181",
   "metadata": {},
   "outputs": [
    {
     "data": {
      "text/plain": [
       "float"
      ]
     },
     "execution_count": 1,
     "metadata": {},
     "output_type": "execute_result"
    }
   ],
   "source": [
    "number2 = 10.3\n",
    "type(number2)"
   ]
  },
  {
   "cell_type": "code",
   "execution_count": null,
   "id": "a77379f4",
   "metadata": {},
   "outputs": [],
   "source": []
  },
  {
   "cell_type": "code",
   "execution_count": null,
   "id": "3453047f",
   "metadata": {},
   "outputs": [],
   "source": []
  },
  {
   "cell_type": "code",
   "execution_count": null,
   "id": "7acfce97",
   "metadata": {},
   "outputs": [],
   "source": []
  },
  {
   "cell_type": "code",
   "execution_count": 80,
   "id": "82d9b812",
   "metadata": {},
   "outputs": [
    {
     "data": {
      "text/plain": [
       "10"
      ]
     },
     "execution_count": 80,
     "metadata": {},
     "output_type": "execute_result"
    }
   ],
   "source": [
    "int(number2)"
   ]
  },
  {
   "cell_type": "code",
   "execution_count": null,
   "id": "fb634dbf",
   "metadata": {},
   "outputs": [],
   "source": [
    "# str, int, float, complex, bool"
   ]
  }
 ],
 "metadata": {
  "kernelspec": {
   "display_name": "Python 3 (ipykernel)",
   "language": "python",
   "name": "python3"
  },
  "language_info": {
   "codemirror_mode": {
    "name": "ipython",
    "version": 3
   },
   "file_extension": ".py",
   "mimetype": "text/x-python",
   "name": "python",
   "nbconvert_exporter": "python",
   "pygments_lexer": "ipython3",
   "version": "3.11.4"
  }
 },
 "nbformat": 4,
 "nbformat_minor": 5
}
